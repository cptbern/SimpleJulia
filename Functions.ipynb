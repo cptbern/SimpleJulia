{
 "cells": [
  {
   "cell_type": "markdown",
   "id": "a576f7a3-b840-4d1f-a28f-abd2d34c1493",
   "metadata": {},
   "source": [
    "# Functions"
   ]
  },
  {
   "cell_type": "markdown",
   "id": "336c6f52-3b58-419f-a0db-649bafc6d22e",
   "metadata": {},
   "source": [
    "## Basics"
   ]
  },
  {
   "cell_type": "markdown",
   "id": "b1357ad1-316f-4ed4-ada8-a126d1155e84",
   "metadata": {},
   "source": [
    "The built-in Julia functions like `print` you can use without even being aware that they are functions. Defining new ones can be done with the `function` keyword, starting a block that ends with `end`."
   ]
  },
  {
   "cell_type": "code",
   "execution_count": 1,
   "id": "437fe3c4-b460-4807-a3ec-c46b72b06463",
   "metadata": {},
   "outputs": [
    {
     "name": "stdout",
     "output_type": "stream",
     "text": [
      "Hi.\n"
     ]
    }
   ],
   "source": [
    "function sayHi()\n",
    "    println( \"Hi.\" )\n",
    "end\n",
    "\n",
    "sayHi()"
   ]
  },
  {
   "cell_type": "markdown",
   "id": "72f48496-5585-48e3-930f-53492533380d",
   "metadata": {},
   "source": [
    "Arguments are passed much like they are in other languages. No type has to be specified (dynamic typing)."
   ]
  },
  {
   "cell_type": "code",
   "execution_count": 2,
   "id": "2427a10a-8b39-4999-b3ed-284aeef09751",
   "metadata": {},
   "outputs": [
    {
     "name": "stdout",
     "output_type": "stream",
     "text": [
      "Hi, dude.\n"
     ]
    }
   ],
   "source": [
    "function sayHi( name )\n",
    "    println( \"Hi, $(name).\" )\n",
    "end\n",
    "\n",
    "sayHi( \"dude\" )"
   ]
  },
  {
   "cell_type": "markdown",
   "id": "29d2fec0-acfb-4982-9256-158b3065e60e",
   "metadata": {},
   "source": [
    "Note that the first definition is not overwritten. Rather, as it has a different signature (no arguments, to be precise). You can still call it."
   ]
  },
  {
   "cell_type": "code",
   "execution_count": 3,
   "id": "97f69af2-9df0-40d8-95b0-9867c9474b24",
   "metadata": {},
   "outputs": [
    {
     "name": "stdout",
     "output_type": "stream",
     "text": [
      "Hi.\n"
     ]
    }
   ],
   "source": [
    "sayHi()"
   ]
  },
  {
   "cell_type": "markdown",
   "id": "8135ebbd-bbef-4f03-afa7-4b12617739c3",
   "metadata": {},
   "source": [
    "Forcing types is possible for *local* variables such as functional arguments and function bodies. Append `::` followed by the desired type to assert it's the one you were expecting."
   ]
  },
  {
   "cell_type": "code",
   "execution_count": 4,
   "id": "f7ce1335-f159-4f59-a5f4-d51cc19afd0e",
   "metadata": {},
   "outputs": [
    {
     "name": "stdout",
     "output_type": "stream",
     "text": [
      "Hi, dude.\n"
     ]
    }
   ],
   "source": [
    "function sayHi( name::String )\n",
    "    println( \"Hi, $(name).\" ) \n",
    "end\n",
    "\n",
    "sayHi( \"dude\" )"
   ]
  },
  {
   "cell_type": "markdown",
   "id": "261afd42-53c9-4586-a8c9-2dc35613ee37",
   "metadata": {},
   "source": [
    "This will not work for *global* variables (at least for now). It makes little sense anyway."
   ]
  },
  {
   "cell_type": "code",
   "execution_count": 5,
   "id": "a9680b00-5f52-4c4e-aa40-e9c8814381e4",
   "metadata": {},
   "outputs": [
    {
     "ename": "LoadError",
     "evalue": "syntax: type declarations on global variables are not yet supported",
     "output_type": "error",
     "traceback": [
      "syntax: type declarations on global variables are not yet supported",
      "",
      "Stacktrace:",
      " [1] top-level scope",
      "   @ In[5]:1",
      " [2] eval",
      "   @ ./boot.jl:360 [inlined]",
      " [3] include_string(mapexpr::typeof(REPL.softscope), mod::Module, code::String, filename::String)",
      "   @ Base ./loading.jl:1116"
     ]
    }
   ],
   "source": [
    "a::Float32 = 10.0"
   ]
  },
  {
   "cell_type": "markdown",
   "id": "aa249fac-50d4-4fc5-8dc3-716815fc1140",
   "metadata": {},
   "source": [
    "Because all three versions of `sayHi` can be called separately, you can reuse their functionality. Notice the message the kernel produces when defining a new `sayHi`."
   ]
  },
  {
   "cell_type": "code",
   "execution_count": 6,
   "id": "9c0ce104-2c9b-44e4-b1d0-7f669e9dc13f",
   "metadata": {},
   "outputs": [
    {
     "data": {
      "text/plain": [
       "sayHi (generic function with 4 methods)"
      ]
     },
     "execution_count": 6,
     "metadata": {},
     "output_type": "execute_result"
    }
   ],
   "source": [
    "function sayHi( name::String, num::Int64 )\n",
    "    for i in 1:num\n",
    "        sayHi( name )\n",
    "    end\n",
    "end"
   ]
  },
  {
   "cell_type": "markdown",
   "id": "80e44fe1-620d-4386-b8e9-9533c6cf0512",
   "metadata": {},
   "source": [
    "Thanks to magic of multiple dispatch, `sayHi` is treated as a *generic* function that has four methods with different signatures."
   ]
  },
  {
   "cell_type": "code",
   "execution_count": 7,
   "id": "7b92a6c9-2350-483f-a455-f72e6533b76a",
   "metadata": {},
   "outputs": [
    {
     "name": "stdout",
     "output_type": "stream",
     "text": [
      "Hi, dude.\n",
      "Hi, dude.\n",
      "Hi, dude.\n",
      "Hi, dude.\n"
     ]
    }
   ],
   "source": [
    "sayHi( \"dude\", 4 )"
   ]
  },
  {
   "cell_type": "markdown",
   "id": "9981b964-7b69-4693-a58f-f63fb1c3690a",
   "metadata": {},
   "source": [
    "You can get a listing of all methods and where they were declared."
   ]
  },
  {
   "cell_type": "code",
   "execution_count": 8,
   "id": "94c04e21-5228-40e7-9e15-3cba041f9fbf",
   "metadata": {},
   "outputs": [
    {
     "data": {
      "text/html": [
       "# 4 methods for generic function <b>sayHi</b>:<ul><li> sayHi() in Main at In[1]:1</li> <li> sayHi(name::<b>String</b>) in Main at In[4]:1</li> <li> sayHi(name::<b>String</b>, num::<b>Int64</b>) in Main at In[6]:1</li> <li> sayHi(name) in Main at In[2]:1</li> </ul>"
      ],
      "text/plain": [
       "# 4 methods for generic function \"sayHi\":\n",
       "[1] sayHi() in Main at In[1]:1\n",
       "[2] sayHi(name::String) in Main at In[4]:1\n",
       "[3] sayHi(name::String, num::Int64) in Main at In[6]:1\n",
       "[4] sayHi(name) in Main at In[2]:1"
      ]
     },
     "execution_count": 8,
     "metadata": {},
     "output_type": "execute_result"
    }
   ],
   "source": [
    "methods(sayHi)"
   ]
  },
  {
   "cell_type": "markdown",
   "id": "44af50f1-3b52-4a5f-8eae-c53b994a5110",
   "metadata": {},
   "source": [
    "Lastly, you can specify default arguments where necessary."
   ]
  },
  {
   "cell_type": "code",
   "execution_count": 9,
   "id": "116e5df7-398a-48fc-b1e0-27d53eb37ee4",
   "metadata": {},
   "outputs": [
    {
     "name": "stdout",
     "output_type": "stream",
     "text": [
      "Hi, Dude.\n"
     ]
    }
   ],
   "source": [
    "function sayHi( name=\"Dude\" )\n",
    "    println( \"Hi, $(name).\" )\n",
    "end\n",
    "\n",
    "sayHi( )"
   ]
  },
  {
   "cell_type": "markdown",
   "id": "ffce009e-0f9d-4237-a1c4-df69a19f4e7f",
   "metadata": {},
   "source": [
    "## Returning values"
   ]
  },
  {
   "cell_type": "markdown",
   "id": "e9fdf6a5-5d4d-4fcb-8529-9db9aba1be8d",
   "metadata": {},
   "source": [
    "The keyword `return` passes back the last computed value for the expression and turns control over to the caller. Julia evaluates nothing after `return`."
   ]
  },
  {
   "cell_type": "code",
   "execution_count": 10,
   "id": "65801ca1-0a3c-4e68-8a52-3214f7e92a30",
   "metadata": {},
   "outputs": [
    {
     "data": {
      "text/plain": [
       "3"
      ]
     },
     "execution_count": 10,
     "metadata": {},
     "output_type": "execute_result"
    }
   ],
   "source": [
    "function add(apples, oranges)\n",
    "    sum = apples + oranges\n",
    "    return sum\n",
    "    \n",
    "    sum = 0\n",
    "end\n",
    "\n",
    "add( 1, 2 ) # returns 3 instead of 0"
   ]
  },
  {
   "cell_type": "markdown",
   "id": "e171e9e8-09f2-48c4-8268-82f1463eca9e",
   "metadata": {},
   "source": [
    "If you would like to make sure your function returns a specific type, you may specify this explicitly. They are not global variables, so you can use `::` to assert type. Note how in the following declaration both the arguments to the function and its return type are now fixed."
   ]
  },
  {
   "cell_type": "code",
   "execution_count": 11,
   "id": "e5f507ae-a609-45d1-8d6b-be198d2bc4c7",
   "metadata": {},
   "outputs": [
    {
     "data": {
      "text/plain": [
       "3"
      ]
     },
     "execution_count": 11,
     "metadata": {},
     "output_type": "execute_result"
    }
   ],
   "source": [
    "function add(apples::Int8, oranges::Int8)::Int8\n",
    "    return apples + oranges\n",
    "end\n",
    "\n",
    "add( 1, 2)"
   ]
  },
  {
   "cell_type": "markdown",
   "id": "878ac344-fe83-402c-b6d7-782102b25966",
   "metadata": {},
   "source": [
    "`return` may not even be necessary unless you need it to control flow. Functions return their last evaluated expression by default."
   ]
  },
  {
   "cell_type": "code",
   "execution_count": 12,
   "id": "96db085b-2143-47ea-b839-aca29a88a244",
   "metadata": {},
   "outputs": [
    {
     "data": {
      "text/plain": [
       "3"
      ]
     },
     "execution_count": 12,
     "metadata": {},
     "output_type": "execute_result"
    }
   ],
   "source": [
    "function add(apples, oranges)\n",
    "    apples + oranges\n",
    "end\n",
    "\n",
    "add( 1, 2 ) # 3"
   ]
  },
  {
   "cell_type": "markdown",
   "id": "c39196a6-2a9a-494f-808a-a6532ee84301",
   "metadata": {},
   "source": [
    "As another example, here's a textbook classic: a recursive function to calculate factorials."
   ]
  },
  {
   "cell_type": "code",
   "execution_count": 13,
   "id": "7417a88f-c771-4b8a-aede-1a491c805262",
   "metadata": {
    "tags": []
   },
   "outputs": [
    {
     "data": {
      "text/plain": [
       "2304077777655037952"
      ]
     },
     "execution_count": 13,
     "metadata": {},
     "output_type": "execute_result"
    }
   ],
   "source": [
    "## explicit\n",
    "function factorial( n::Int64 )::Int64\n",
    "    result = n\n",
    "    if n>1\n",
    "        result = result * factorial(n-1)\n",
    "    else\n",
    "        return result\n",
    "    end\n",
    "end\n",
    "\n",
    "factorial(39)"
   ]
  },
  {
   "cell_type": "markdown",
   "id": "79f04b33-eebe-456e-b1f1-8644e08e413a",
   "metadata": {},
   "source": [
    "Briefer, without the `else` clause:"
   ]
  },
  {
   "cell_type": "code",
   "execution_count": 14,
   "id": "c7cc1887-cc9b-4b47-ad23-3dccc7bc54eb",
   "metadata": {
    "tags": []
   },
   "outputs": [
    {
     "data": {
      "text/plain": [
       "2304077777655037952"
      ]
     },
     "execution_count": 14,
     "metadata": {},
     "output_type": "execute_result"
    }
   ],
   "source": [
    "function factorial( n::Int64 )::Int64\n",
    "    result = n\n",
    "    if n>1\n",
    "        result = result * factorial(n-1)\n",
    "    end\n",
    "    \n",
    "    result\n",
    "end\n",
    "\n",
    "factorial(39)"
   ]
  },
  {
   "cell_type": "markdown",
   "id": "69c364a6-dd57-4e7b-8b13-932bd17f7bb0",
   "metadata": {
    "tags": []
   },
   "source": [
    "Calling `return` without anything else technically returns `nothing`. It is the implied form of `return nothing`."
   ]
  },
  {
   "cell_type": "code",
   "execution_count": 15,
   "id": "b8619e4a-b6da-4804-b88e-6f5da083b445",
   "metadata": {
    "tags": []
   },
   "outputs": [],
   "source": [
    "function add(apples, oranges)\n",
    "    apples + oranges\n",
    "    return\n",
    "end\n",
    "\n",
    "add( 1, 2 ) # <cricket noise>"
   ]
  },
  {
   "cell_type": "markdown",
   "id": "99e01b69-31d0-42ca-bcb4-3063e52589cd",
   "metadata": {},
   "source": [
    "Operators such as `+` and `-` are functions at heart and you can overload them to handle custom data types. If you wanted to keep track of your fruit basket, you might define `struct`s for each type."
   ]
  },
  {
   "cell_type": "code",
   "execution_count": 16,
   "id": "6372847a-00a4-4c4a-b478-259bde5c901d",
   "metadata": {},
   "outputs": [],
   "source": [
    "struct Apple\n",
    "    name::String\n",
    "    count::Int\n",
    "end\n",
    "\n",
    "myApples = Apple( \"Golden Delicious\", 6 )\n",
    "moreApples = Apple( \"Granny Smith\", 6 );"
   ]
  },
  {
   "cell_type": "markdown",
   "id": "2a171ce2-1ec7-49a4-897f-990100fcbfae",
   "metadata": {},
   "source": [
    "To find how many apples you have, you could not simply type:"
   ]
  },
  {
   "cell_type": "code",
   "execution_count": 17,
   "id": "1c3e2d81-69ac-4d66-b914-078b1c32152f",
   "metadata": {},
   "outputs": [
    {
     "ename": "LoadError",
     "evalue": "MethodError: no method matching +(::Apple, ::Apple)\n\u001b[0mClosest candidates are:\n\u001b[0m  +(::Any, ::Any, \u001b[91m::Any\u001b[39m, \u001b[91m::Any...\u001b[39m) at operators.jl:560",
     "output_type": "error",
     "traceback": [
      "MethodError: no method matching +(::Apple, ::Apple)\n\u001b[0mClosest candidates are:\n\u001b[0m  +(::Any, ::Any, \u001b[91m::Any\u001b[39m, \u001b[91m::Any...\u001b[39m) at operators.jl:560",
      "",
      "Stacktrace:",
      " [1] top-level scope",
      "   @ In[17]:1",
      " [2] eval",
      "   @ ./boot.jl:360 [inlined]",
      " [3] include_string(mapexpr::typeof(REPL.softscope), mod::Module, code::String, filename::String)",
      "   @ Base ./loading.jl:1116"
     ]
    }
   ],
   "source": [
    "myApples + moreApples"
   ]
  },
  {
   "cell_type": "markdown",
   "id": "fd206eb2-a852-476b-b562-ff9081ee17f3",
   "metadata": {},
   "source": [
    "Overload the base operator `+` to make turn this into a valid statement."
   ]
  },
  {
   "cell_type": "code",
   "execution_count": 18,
   "id": "d228f5f0-dff9-4498-b846-d3f57c2b6cf3",
   "metadata": {},
   "outputs": [
    {
     "name": "stdout",
     "output_type": "stream",
     "text": [
      "myApples + moreApples = 12\n"
     ]
    },
    {
     "data": {
      "text/plain": [
       "12"
      ]
     },
     "execution_count": 18,
     "metadata": {},
     "output_type": "execute_result"
    }
   ],
   "source": [
    "import Base.+\n",
    "\n",
    "function +(a::Apple, b::Apple)\n",
    "    a.count + b.count\n",
    "end\n",
    "\n",
    "@show myApples + moreApples"
   ]
  },
  {
   "cell_type": "markdown",
   "id": "19d4e03e-a235-46cf-900a-e8d4db7a1294",
   "metadata": {},
   "source": [
    "Now here is a type for oranges. "
   ]
  },
  {
   "cell_type": "code",
   "execution_count": 19,
   "id": "29e42ba6-6276-4d65-b7e3-09473959763f",
   "metadata": {},
   "outputs": [
    {
     "data": {
      "text/plain": [
       "Orange(\"Valencia\", 4)"
      ]
     },
     "execution_count": 19,
     "metadata": {},
     "output_type": "execute_result"
    }
   ],
   "source": [
    "struct Orange\n",
    "    name::String\n",
    "    count::Int\n",
    "end\n",
    "\n",
    "myOranges = Orange( \"Valencia\", 4 )"
   ]
  },
  {
   "cell_type": "markdown",
   "id": "90561079-fea6-4893-a40b-2c3f0f37d703",
   "metadata": {},
   "source": [
    "Needless to say, even though they have the same fields, attempting to add them will throw an error. There is simply no function to add `Apple` and `Orange`."
   ]
  },
  {
   "cell_type": "code",
   "execution_count": 20,
   "id": "05d852c9-672a-4c72-b2c3-d5d8844a5e53",
   "metadata": {},
   "outputs": [
    {
     "ename": "LoadError",
     "evalue": "MethodError: no method matching +(::Apple, ::Orange)\n\u001b[0mClosest candidates are:\n\u001b[0m  +(::Any, ::Any, \u001b[91m::Any\u001b[39m, \u001b[91m::Any...\u001b[39m) at operators.jl:560\n\u001b[0m  +(::Apple, \u001b[91m::Apple\u001b[39m) at In[18]:3",
     "output_type": "error",
     "traceback": [
      "MethodError: no method matching +(::Apple, ::Orange)\n\u001b[0mClosest candidates are:\n\u001b[0m  +(::Any, ::Any, \u001b[91m::Any\u001b[39m, \u001b[91m::Any...\u001b[39m) at operators.jl:560\n\u001b[0m  +(::Apple, \u001b[91m::Apple\u001b[39m) at In[18]:3",
      "",
      "Stacktrace:",
      " [1] top-level scope",
      "   @ In[20]:1",
      " [2] eval",
      "   @ ./boot.jl:360 [inlined]",
      " [3] include_string(mapexpr::typeof(REPL.softscope), mod::Module, code::String, filename::String)",
      "   @ Base ./loading.jl:1116"
     ]
    }
   ],
   "source": [
    "myApples + myOranges"
   ]
  },
  {
   "cell_type": "markdown",
   "id": "cfdcada6-f81a-47ad-8ad7-1b66ec6f9fb5",
   "metadata": {},
   "source": [
    "**Aside**\n",
    "\n",
    "Here is an elegant way to accomplish this anyway. It uses Julias hierarchical typing. You need only create a supertype `Fruit` (using `<:`) and redefine `Apple` and `Orange`.\n",
    "\n",
    "```\n",
    "abstract type Fruit end\n",
    "\n",
    "struct Apple <: Fruit\n",
    "    name::String\n",
    "    count::Int\n",
    "end\n",
    "\n",
    "struct Orange <: Fruit\n",
    "    name::String\n",
    "    count::Int\n",
    "end\n",
    "```\n",
    "\n",
    "Do another overload of `+` for type `Fruit`.\n",
    "\n",
    "```\n",
    "import Base.+\n",
    "\n",
    "function +(a::Fruit, b::Fruit)\n",
    "    a.count + b.count\n",
    "end\n",
    "```\n",
    "\n",
    "And now Julia will happily add `Apple` and `Orange`.\n",
    "```\n",
    "myApples = Apple( \"Golden Delicious\", 6 )\n",
    "moreApples = Apple( \"Granny Smith\", 6 )\n",
    "myOranges = Orange( \"Valencia\", 4 );\n",
    "\n",
    "@show myApples + myOranges\n",
    "# myApples + myOranges = 10\n",
    "```"
   ]
  },
  {
   "cell_type": "markdown",
   "id": "d34b3ba3-7f1d-4345-97cb-14d41406e497",
   "metadata": {
    "tags": []
   },
   "source": [
    "## Anonymous functions"
   ]
  },
  {
   "cell_type": "markdown",
   "id": "1158a255-5b49-475d-a581-72f46f6fb4ba",
   "metadata": {},
   "source": [
    "Another core element of Julia, sometimes referred to as *lambda functions* in languages such as Python. Unlike in other programming environments, they are more deeply integrated into Julia. You can pass them as arguments, and return them. Frequently they are mapped over expressions for transformations. `map` is what is known as a *higher-order function* in that it not only operates on arguments but also on functions.\n",
    "\n",
    "Mapping a function works like so:"
   ]
  },
  {
   "cell_type": "code",
   "execution_count": 21,
   "id": "d1c3aa16-a2ab-4b73-ae06-b80f82f1ddcb",
   "metadata": {},
   "outputs": [
    {
     "data": {
      "text/plain": [
       "4-element Vector{Float64}:\n",
       " 1.0\n",
       " 1.4142135623730951\n",
       " 1.7320508075688772\n",
       " 2.0"
      ]
     },
     "execution_count": 21,
     "metadata": {},
     "output_type": "execute_result"
    }
   ],
   "source": [
    "map( sqrt, [1, 2, 3, 4] ) # invoke sqrt() with the four elements given in the array"
   ]
  },
  {
   "cell_type": "markdown",
   "id": "3ffc9c82-6c21-4428-856a-86fdb58f7c26",
   "metadata": {},
   "source": [
    "Calculating the volume of a sphere is not built-in. Here's a function for this. Notice the following:\n",
    "* while not necessary because of dynamic typing, both the argument and the return type of `sphereVolume` are typed\n",
    "* function asserts `r`is a number, so it can an int or a float\n",
    "* it says $\\pi$, not `pi` "
   ]
  },
  {
   "cell_type": "code",
   "execution_count": 22,
   "id": "7185066a-5891-4298-a05d-5c5c2cf47807",
   "metadata": {},
   "outputs": [
    {
     "data": {
      "text/plain": [
       "4188.790204786391"
      ]
     },
     "execution_count": 22,
     "metadata": {},
     "output_type": "execute_result"
    }
   ],
   "source": [
    "function sphereVolume( r::Number )::Float64\n",
    "    return 4/3*π*r^3\n",
    "end\n",
    "\n",
    "sphereVolume( 10 )"
   ]
  },
  {
   "cell_type": "code",
   "execution_count": 23,
   "id": "ad108870-a407-4780-9a21-c984926a0035",
   "metadata": {},
   "outputs": [
    {
     "data": {
      "text/plain": [
       "4-element Vector{Float64}:\n",
       "   4.1887902047863905\n",
       "  33.510321638291124\n",
       " 113.09733552923254\n",
       " 268.082573106329"
      ]
     },
     "execution_count": 23,
     "metadata": {},
     "output_type": "execute_result"
    }
   ],
   "source": [
    "map( sphereVolume, [1, 2, 3, 4] ) # Julia knows from the signature that it should pass the elements of the array to r"
   ]
  },
  {
   "cell_type": "markdown",
   "id": "f90fc9ab-28dc-4f35-98cf-553723078357",
   "metadata": {},
   "source": [
    "It's a simple equation. With an anonymous function, you can cut corners."
   ]
  },
  {
   "cell_type": "code",
   "execution_count": 24,
   "id": "f38274e2-205f-46e7-ba33-7dd4ecd6faaf",
   "metadata": {},
   "outputs": [
    {
     "data": {
      "text/plain": [
       "4-element Vector{Float64}:\n",
       "   4.1887902047863905\n",
       "  33.510321638291124\n",
       " 113.09733552923254\n",
       " 268.082573106329"
      ]
     },
     "execution_count": 24,
     "metadata": {},
     "output_type": "execute_result"
    }
   ],
   "source": [
    "map( r -> 4/3*π*r^3, [1,2,3,4] ) # map r to function. No signature, so you need to say where the elements go."
   ]
  },
  {
   "cell_type": "markdown",
   "id": "34edb7d9-4ec2-4e53-b420-251f93b9423f",
   "metadata": {},
   "source": [
    "There is also a block version."
   ]
  },
  {
   "cell_type": "code",
   "execution_count": 25,
   "id": "ed43259d-e6c6-48cb-bdc4-31848b2b6ffb",
   "metadata": {},
   "outputs": [
    {
     "data": {
      "text/plain": [
       "4-element Vector{Float64}:\n",
       "   4.1887902047863905\n",
       "  33.510321638291124\n",
       " 113.09733552923254\n",
       " 268.082573106329"
      ]
     },
     "execution_count": 25,
     "metadata": {},
     "output_type": "execute_result"
    }
   ],
   "source": [
    "map( [1, 2, 3, 4] ) do r\n",
    "    sphereVolume(r)\n",
    "end"
   ]
  },
  {
   "cell_type": "markdown",
   "id": "d31085a1-5697-4fbc-91d8-2e0becdc4297",
   "metadata": {},
   "source": [
    "## Closures"
   ]
  },
  {
   "cell_type": "markdown",
   "id": "fdf9ae16-ddf9-4ff7-91e3-670f9fb1cc21",
   "metadata": {},
   "source": [
    "A closure is the equivalent of an object with a single method. It's called *closure* because it *encloses*, or *closes over*, a lexical scope. This allows creating functions that can remember their state by taking with them their own scope. Their return value is another function.\n",
    "\n",
    "Julia uses lexical scoping, meaning that invoking a function does not grant it access to its caller's scope. Accessing a global variable will throw an error. It is a way of avoiding so-called `side effects`, modifications of states / variables, outside of where you may have intended to. For instance, implementing a counter in Python might look like this:\n",
    "\n",
    "```\n",
    "counter = 0\n",
    "\n",
    "def increaseCounter( val ):\n",
    "    global counter\n",
    "    counter = counter + val\n",
    "\n",
    "print( \"Counter: \", counter )\n",
    "increaseCounter(10)\n",
    "print( \"Counter: \", counter )\n",
    "```\n",
    "\n",
    "Very similarly in Julia, which also has a `global` keyword."
   ]
  },
  {
   "cell_type": "code",
   "execution_count": 26,
   "id": "b38bb593-6304-41ab-869d-a2223ac3d497",
   "metadata": {},
   "outputs": [
    {
     "name": "stdout",
     "output_type": "stream",
     "text": [
      "Counter: 0\n",
      "Counter: 10\n"
     ]
    }
   ],
   "source": [
    "counter = 0\n",
    "\n",
    "function increaseCounter( val::Int )\n",
    "    global counter = counter + val\n",
    "end\n",
    "\n",
    "println( \"Counter: $(counter)\" )\n",
    "increaseCounter(10) # add 10 \n",
    "println( \"Counter: $(counter)\" )"
   ]
  },
  {
   "cell_type": "markdown",
   "id": "17c7ce58-ab15-4867-ade9-d2d2472b1cd2",
   "metadata": {},
   "source": [
    "Using a closure, the variable `counter` is wrapped in `increaseCounter`."
   ]
  },
  {
   "cell_type": "code",
   "execution_count": 27,
   "id": "4d3f29c0-7c1e-45b2-a928-f928199ec152",
   "metadata": {},
   "outputs": [
    {
     "name": "stdout",
     "output_type": "stream",
     "text": [
      "counter() = 1\n",
      "counter(2) = 3\n"
     ]
    }
   ],
   "source": [
    "function increaseCounter()\n",
    "    counter = 0\n",
    "    \n",
    "    function add( val=1 )\n",
    "        counter = counter + val\n",
    "    end\n",
    "end\n",
    "\n",
    "counter = increaseCounter() # counter == 0\n",
    "@show counter() # increase by one, counter == 1\n",
    "@show counter(2); # increase by two, counter == 3"
   ]
  },
  {
   "cell_type": "markdown",
   "id": "d91d0b79-d6e6-4eac-aa85-5ce5fee1aaf6",
   "metadata": {},
   "source": [
    "Counters are a typical use case for closures in JavaScript. As web pages will not be your primary reason for using Julia, consider this function that retrieves an element from an absurdly large array by index `idx`. Call this repeatedly to see\n",
    "\n",
    "* consistently long run times\n",
    "* memory overhead, including time wasted with garbage collections (*gc time*)"
   ]
  },
  {
   "cell_type": "code",
   "execution_count": 28,
   "id": "745edb5b-27e0-4ac1-8290-724033ecb7b3",
   "metadata": {},
   "outputs": [
    {
     "name": "stdout",
     "output_type": "stream",
     "text": [
      "  0.390265 seconds (2 allocations: 762.940 MiB, 1.07% gc time)\n",
      "  0.412359 seconds (2 allocations: 762.940 MiB, 6.93% gc time)\n",
      "  0.424776 seconds (2 allocations: 762.940 MiB, 8.74% gc time)\n",
      "  0.448940 seconds (2 allocations: 762.940 MiB, 14.20% gc time)\n"
     ]
    }
   ],
   "source": [
    "function getElement( idx )\n",
    "    absurdArray = collect(1:1e8)\n",
    "    \n",
    "    return absurdArray[idx]\n",
    "end\n",
    "\n",
    "@time getElement( 10 )\n",
    "@time getElement( 100 )\n",
    "@time getElement( 1000 )\n",
    "@time getElement( 10000 );"
   ]
  },
  {
   "cell_type": "markdown",
   "id": "91d84461-2b16-4b89-9c85-9be149ce863a",
   "metadata": {},
   "source": [
    "You can the re-allocations and garbage collecting by using a closure because now the local variable (the absurdly large array) is stored with the function."
   ]
  },
  {
   "cell_type": "code",
   "execution_count": 29,
   "id": "654f5565-b6b2-471a-962f-25bb91dbb1ab",
   "metadata": {},
   "outputs": [
    {
     "name": "stdout",
     "output_type": "stream",
     "text": [
      "  0.440292 seconds (3 allocations: 762.940 MiB, 12.59% gc time)\n",
      "  0.002316 seconds (826 allocations: 56.795 KiB, 97.77% compilation time)\n",
      "  0.000002 seconds (1 allocation: 16 bytes)\n",
      "  0.000001 seconds (1 allocation: 16 bytes)\n",
      "  0.000000 seconds (1 allocation: 16 bytes)\n"
     ]
    }
   ],
   "source": [
    "function getElementClosure(  )\n",
    "    absurdArray = collect(1:1e8)\n",
    "    \n",
    "    function getElement( idx )\n",
    "         absurdArray[idx]\n",
    "    end\n",
    "end\n",
    "\n",
    "@time closure = getElementClosure()\n",
    "@time closure( 10 )\n",
    "@time closure( 100 )\n",
    "@time closure( 1000 )\n",
    "@time closure( 10000 );"
   ]
  },
  {
   "cell_type": "markdown",
   "id": "3867e771-62b5-4c67-a590-15724b4ad3fc",
   "metadata": {},
   "source": [
    "Run times drop drastically after the initial assignment of `getElementClosure` to the variable `closure`."
   ]
  }
 ],
 "metadata": {
  "kernelspec": {
   "display_name": "Julia 1.6.5",
   "language": "julia",
   "name": "julia-1.6"
  },
  "language_info": {
   "file_extension": ".jl",
   "mimetype": "application/julia",
   "name": "julia",
   "version": "1.6.5"
  }
 },
 "nbformat": 4,
 "nbformat_minor": 5
}
