{
 "cells": [
  {
   "cell_type": "markdown",
   "id": "00011f06-c9ba-4527-8872-76507a89e2c4",
   "metadata": {},
   "source": [
    "# MNIST in Julia 1.6 and Flux"
   ]
  },
  {
   "cell_type": "markdown",
   "id": "bc758a64-6032-49bf-a7f9-5896bd22ddec",
   "metadata": {},
   "source": [
    "Simplified version of the [model zoo MNIST example](https://github.com/FluxML/model-zoo/blob/master/vision/mlp_mnist/mlp_mnist.jl). Trains a two layer aNN on MNIST training data."
   ]
  },
  {
   "cell_type": "code",
   "execution_count": 1,
   "id": "f36287db-62c5-4acb-8be4-73c7c1f3165c",
   "metadata": {
    "tags": []
   },
   "outputs": [],
   "source": [
    "using Statistics\n",
    "using Flux\n",
    "using Flux: onehotbatch, onecold, crossentropy, throttle\n",
    "using MLDatasets: MNIST\n",
    "using Base.Iterators: repeated"
   ]
  },
  {
   "cell_type": "markdown",
   "id": "2c27c17c-657f-450e-bab8-89aef0515c00",
   "metadata": {},
   "source": [
    "Get the MNIST data and reshape."
   ]
  },
  {
   "cell_type": "code",
   "execution_count": 2,
   "id": "9b3b7055-e55b-4fd9-91a7-6f94c6804fe0",
   "metadata": {},
   "outputs": [],
   "source": [
    "X,y= MNIST.traindata(Float32); # casting as floats\n",
    "X = Flux.flatten(X); # convert to matrix, keeping size of last dimension\n",
    "y = onehotbatch( y, 0:9);"
   ]
  },
  {
   "cell_type": "markdown",
   "id": "53a10c0e-3072-4dbe-bb61-20ef4dd2f283",
   "metadata": {},
   "source": [
    "Simple two layer model with softmax"
   ]
  },
  {
   "cell_type": "code",
   "execution_count": 3,
   "id": "2d74ab6e-9719-4bc3-b945-da46027cea45",
   "metadata": {},
   "outputs": [],
   "source": [
    "m = Chain(\n",
    "    Dense(28^2, 128, relu),\n",
    "    Dense(128, 10),\n",
    "    softmax\n",
    ")\n",
    "\n",
    "loss(x,y) = crossentropy(m(x), y);\n",
    "opt = ADAM();\n",
    "accuracy(x,y) = mean(onecold(m(x)) .== onecold(y));"
   ]
  },
  {
   "cell_type": "markdown",
   "id": "69d57435-0b4e-4933-a133-1614f20094a1",
   "metadata": {},
   "source": [
    "Train the model for 200 epochs, showing crossentropy at regular intervals."
   ]
  },
  {
   "cell_type": "code",
   "execution_count": 4,
   "id": "cfe3a4a3-ca30-45d0-82db-5d4a01fffaad",
   "metadata": {},
   "outputs": [
    {
     "name": "stdout",
     "output_type": "stream",
     "text": [
      "loss(X, y) = 2.217248f0\n",
      "loss(X, y) = 0.51430285f0\n",
      "loss(X, y) = 0.34134966f0\n",
      "loss(X, y) = 0.27777982f0\n",
      "loss(X, y) = 0.25305673f0\n",
      "loss(X, y) = 0.22409853f0\n",
      "loss(X, y) = 0.19640996f0\n",
      "loss(X, y) = 0.17369099f0\n",
      "Overall accuracy: 0.9578166666666666\n"
     ]
    }
   ],
   "source": [
    "dataset = repeated((X,y),200) # repeat the data set n times\n",
    "evalcb = () -> @show(loss(X,y))\n",
    "\n",
    "Flux.train!(loss, params(m), dataset, opt, cb=throttle(evalcb, 10));\n",
    "\n",
    "println( \"Overall accuracy: $(accuracy(X,y))\" )"
   ]
  },
  {
   "cell_type": "markdown",
   "id": "99520414-87ac-4dd1-b691-f3b44fedad90",
   "metadata": {},
   "source": [
    "This seems to have learned enough to describe the dataset. Let's look at the prediction of a random instance."
   ]
  },
  {
   "cell_type": "code",
   "execution_count": 5,
   "id": "8bb2b9f7-bf83-4488-a14d-58f5a655a01e",
   "metadata": {
    "tags": []
   },
   "outputs": [
    {
     "ename": "LoadError",
     "evalue": "UndefVarError: bar not defined",
     "output_type": "error",
     "traceback": [
      "UndefVarError: bar not defined",
      "",
      "Stacktrace:",
      " [1] top-level scope",
      "   @ In[5]:1",
      " [2] eval",
      "   @ ./boot.jl:360 [inlined]",
      " [3] include_string(mapexpr::typeof(REPL.softscope), mod::Module, code::String, filename::String)",
      "   @ Base ./loading.jl:1116"
     ]
    }
   ],
   "source": [
    "bar( m(X[:,123]), title=\"Expected result: $(onecold(y[:,123]))\", label=\"probability\", ticks=collect(1:1:10) )"
   ]
  },
  {
   "cell_type": "code",
   "execution_count": null,
   "id": "c3f69cd5-ce8e-479b-ac7f-a795fa017bd7",
   "metadata": {},
   "outputs": [],
   "source": []
  }
 ],
 "metadata": {
  "kernelspec": {
   "display_name": "Julia 1.6.5",
   "language": "julia",
   "name": "julia-1.6"
  },
  "language_info": {
   "file_extension": ".jl",
   "mimetype": "application/julia",
   "name": "julia",
   "version": "1.6.5"
  }
 },
 "nbformat": 4,
 "nbformat_minor": 5
}
